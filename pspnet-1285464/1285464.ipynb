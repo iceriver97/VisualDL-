{
 "cells": [
  {
   "cell_type": "markdown",
   "metadata": {
    "collapsed": false
   },
   "source": [
    "## 背景及工具介绍\n",
    "\n",
    "如果你是一个新手，在使用飞桨成熟的套件完成任务的同时，会不会好奇使用的网络长什么样呢？网络在套件中又是如何实现的呢？\n",
    "\n",
    "本项目首先会介绍 `PSPNet`，然后利用 `VisualDL-Graph` 可视化模型网络结构功能，看一看 PSPNet 到底长什么样，代码又是如何实现的，帮助大家更好的理解 PSPNet，同时使用了 `VisualDL-Service` 来共享可视化结果；\n",
    "\n",
    "在`PaddleSeg`中已经实现了很多分割网络，其中就包含我们今天的主角：PSPNet，我们今天就通过 VisualDL-Graph 来看一看 PSPNet 是如何实现的；\n",
    "\n",
    "`VisualDL` 是飞桨可视化分析工具，以丰富的图表呈现训练参数变化趋势、模型结构、数据样本、高维数据分布等。可帮助用户更清晰直观地理解深度学习模型训练过程及模型结构，进而实现高效的模型优化。支持标量、图结构、数据样本可视化、直方图、PR曲线及高维数据降维呈现等诸多功能，同时VisualDL提供可视化结果保存服务。具体细节大家可以自行去 VisualDL Github 主页查看；\n",
    "\n",
    "这个可视化工具是**非常好用的，也是训练中必不可少的**，关于 VisualDL 其他功能如何在项目中使用，可以参考我的其他文章；\n",
    "\n",
    "最后也希望大家能够去 [Github](https://github.com/PaddlePaddle/VisualDL) 上点一点star，让官方能把这个工具做的越来越好！\n",
    "![](https://ai-studio-static-online.cdn.bcebos.com/7796421969af40e6bb9a67c225a3c5d895edaea9688648b5b65484eba6a83ba0)\n"
   ]
  },
  {
   "cell_type": "markdown",
   "metadata": {
    "collapsed": false
   },
   "source": [
    "## 安装 PaddleSeg\n",
    "\n",
    "我将官方的 PaddleSeg-v0.7.0 下载好了，已经挂载在项目中，这里直接解压安装，并切换至静态图默认工作目录 PaddleSeg/\n",
    "\n",
    "如果项目中没有的话，搜索 公开数据集 `PaddleSeg-v0.7.0` 就可以找到了"
   ]
  },
  {
   "cell_type": "code",
   "execution_count": 1,
   "metadata": {
    "collapsed": false
   },
   "outputs": [],
   "source": [
    "!unzip /home/aistudio/data/data60663/PaddleSeg-release-v0.7.0.zip -d work/\r\n",
    "!mv work/PaddleSeg-release-v0.7.0/ work/PaddleSeg\r\n",
    "%cd work/PaddleSeg/"
   ]
  },
  {
   "cell_type": "markdown",
   "metadata": {
    "collapsed": false
   },
   "source": [
    "## 下载预训练模型并导出\n",
    "\n",
    "PaddleSeg 提供了丰富的预训练模型，我们想要查看 PSPNet 的网络结构，首先需要下载一个 PSPNet 的预训练模型，我这里选择了：pspnet50_bn_cityscapes\n",
    "\n",
    "通过 PaddleSeg/pretrained_model/download_model.py 就可以一键下载了，下载好的预训练模型也在该目录下"
   ]
  },
  {
   "cell_type": "code",
   "execution_count": 2,
   "metadata": {
    "collapsed": false
   },
   "outputs": [],
   "source": [
    "!python pretrained_model/download_model.py pspnet50_bn_cityscapes"
   ]
  },
  {
   "cell_type": "markdown",
   "metadata": {
    "collapsed": false
   },
   "source": [
    "下载好的模型权重参数为分散的文件，我们需要将其导出为推理模型，利用 pdseg/export_model.py 就可以完成了；\n",
    "\n",
    "但是该脚本需要指定一个配置文件，我们利用内置的配置文件 configs/pspnet_optic.yaml，首先需要下载数据集；\n",
    "\n",
    "然后指定参数修改配置文件，DATASET.NUM_CLASSES 改为 19; TEST.TEST_MODEL 改为 \"./pretrained_model/pspnet50_bn_cityscapes/\""
   ]
  },
  {
   "cell_type": "code",
   "execution_count": 3,
   "metadata": {
    "collapsed": false
   },
   "outputs": [],
   "source": [
    "# 下载数据集\r\n",
    "!python dataset/download_optic.py\r\n",
    "# 更改配置文件参数，导出推理模型\r\n",
    "!python pdseg/export_model.py --cfg configs/pspnet_optic.yaml DATASET.NUM_CLASSES 19 TEST.TEST_MODEL  \"./pretrained_model/pspnet50_bn_cityscapes/\""
   ]
  },
  {
   "cell_type": "markdown",
   "metadata": {
    "collapsed": false
   },
   "source": [
    "## PSPNet 介绍\n",
    "\n",
    "百度之前开过一门图像分割的课程，[图像分割七日打卡营](https://aistudio.baidu.com/aistudio/course/introduce/1767)，课程中介绍了一些主流的分割网络，推荐大家去看一看；\n",
    "\n",
    "先贴一张论文中截图，这张图很清晰的展示了 PSPNet 在 FCN 的基础上解决了什么问题：\n",
    "\n",
    "![](https://ai-studio-static-online.cdn.bcebos.com/a82e7160228c48dfb278541ffb5b90e8cee25ac635454b99bcc69a14100892c6)\n",
    "\n",
    "我们看图像第一行，FCN 会把船识别为车，因为这张图中的船与车的外观很像，但是PSPNet 并没有误识别，因为其金字塔模块利用了**上下文信息**，周围有水的情况下，这应该是一艘船；\n",
    "\n",
    "也就是感受野的问题，PSPNet 通过不同 scale 的金字塔进行处理，也就是图中红黄蓝绿四个部分，最后再将不同尺度的结果进行 concat；\n",
    "\n",
    "![](https://ai-studio-static-online.cdn.bcebos.com/dc84cfb33d1d423888409c37c717ea22c8fe205ad357415aaec0c2cc67a8ed38)\n",
    "\n",
    "在这之前，需要利用 ResNet 提取图像特征；关于 ResNet 大家可以参考一下其他资料，我们下面只看一下实现的代码，原理就不细说了；"
   ]
  },
  {
   "cell_type": "markdown",
   "metadata": {
    "collapsed": false
   },
   "source": [
    "PaddleSeg 静态图实现的网络在 PaddleSeg/pdseg/models/modeling 目录下，其中有 fast_scnn, pspnet, deeplab, unet等；\n",
    "\n",
    "我们查看 pspnet.py 的内容：\n",
    "\n",
    "从第107开始是模型的定义，其中有四个部分，首先是使用 ResNet 作为 backbone, 然后就是一个 PSP 模块， 紧跟着有一个 dropout 层，最后是一个 get_logit_interp 得到原尺寸的输出；\n",
    "```\n",
    "def pspnet(input, num_classes):\n",
    "    # Backbone: ResNet\n",
    "    res = resnet(input)\n",
    "    # PSP模块\n",
    "    psp = psp_module(res, 512)\n",
    "    dropout = fluid.layers.dropout(psp, dropout_prob=0.1, name=\"dropout\")\n",
    "    # 根据类别数决定最后一层卷积输出, 并插值回原始尺寸\n",
    "    logit = get_logit_interp(dropout, num_classes, input.shape[2:])\n",
    "    return logit\n",
    "```"
   ]
  },
  {
   "cell_type": "markdown",
   "metadata": {
    "collapsed": false
   },
   "source": [
    "## 利用 VisualDL-Graph 查看模型网络结构\n",
    "接下来我们结合模型网络结构图，分别查看一下这四个部分的内容，\n",
    "\n",
    "我们点击左侧标签 `可视化->选择模型文件->选择 work/PaddleSeg/freeze_model/__ model __ ->启动VisualDL服务 -> 打开VisualDL`,在打开的网页中就可以看到我们的网络结构了\n",
    "\n",
    "如果你在本地有模型文件，把文件直接拖入页面就可以进行加载了，十分方便"
   ]
  },
  {
   "cell_type": "markdown",
   "metadata": {
    "collapsed": false
   },
   "source": [
    "## Backbone: ResNet\n",
    "首先是第一个模块，也即网络的backbone: ResNet\n",
    "\n",
    "在 pspnet.py 中我们可以看到结构的定义，也就是下面的代码，首先从配置文件中获取了 scale 和 layers，然后从 resnet_backbone 中获取了模型；\n",
    "```\n",
    "def resnet(input):\n",
    "    # PSPNET backbone: resnet, 默认resnet50\n",
    "    # end_points: resnet终止层数\n",
    "    # dilation_dict: resnet block数及对应的膨胀卷积尺度\n",
    "    scale = cfg.MODEL.PSPNET.DEPTH_MULTIPLIER\n",
    "    layers = cfg.MODEL.PSPNET.LAYERS\n",
    "    end_points = layers - 1\n",
    "    dilation_dict = {2: 2, 3: 4}\n",
    "    model = resnet_backbone(layers, scale, stem='pspnet')\n",
    "    data, _ = model.net(\n",
    "        input, end_points=end_points, dilation_dict=dilation_dict)\n",
    "\n",
    "    return data\n",
    "```\n",
    "PaddleSeg 的 backbone 文件都在PaddleSeg/pdseg/models/backbone 目录下，我们找到 resnet.py, 第49行开始net函数开始就是backbone的实现；\n",
    "\n",
    "开始是一些参数的设定，直到第88行开始，首先是**3个 conv_bn_layer** 操作，\n",
    "\n",
    "```\n",
    "conv = self.conv_bn_layer(\n",
    "                input=input,\n",
    "                num_filters=int(64 * self.scale),\n",
    "                filter_size=3,\n",
    "                stride=2,\n",
    "                act='relu',\n",
    "                name=\"conv1_1\")\n",
    "```\n",
    "\n",
    "conv_by_layer 的操作从209行开始，里面有两个操作，224行的 conv = fluid.layers.conv2d 以及 241行的 fluid.layers.batch_norm，结合第88行调用的部分，我们可以得到操作为：\n",
    "\n",
    "`conv2d + batch_norm + relu` , 我们看网络结构图一开始的地方，应该能看到3个这样的结构：\n",
    "![](https://ai-studio-static-online.cdn.bcebos.com/1ae3aea045ad4188b22382160b7d8343c3e6599c741e4bb49d904e36142ccab4)\n",
    "\n",
    "但是，这里多了个 elementwise_add 操作，这是因为在 conv2d 中指定了参数 bias_attr；\n",
    "\n",
    "接着看resnet.py 的代码， 3个conv_bn_layer操作之后，到 119行有一个 conv = fluid.layers.pool2d，看图中第三个conv_bn_layer 之后确实有一个 pool2d\n",
    "\n",
    "![](https://ai-studio-static-online.cdn.bcebos.com/8b63c2bf71a74bcf9344ecf10fdf17affbfba5e9b8834163859b10764d6f2508)\n",
    "\n",
    "\n",
    "\n"
   ]
  },
  {
   "cell_type": "markdown",
   "metadata": {
    "collapsed": false
   },
   "source": [
    "## Backbone: ResNet\n",
    "\n",
    "接下来你可以先在网络结构页面**滚动滑轮，进行缩放**，你会发现之后的部分比较有规律，结构都比较相似，结合 resnet.py 第133行开始，我们发现进入了一个循环，\n",
    "\n",
    "```\n",
    "for block in range(len(depth)):\n",
    "\tfor i in range(depth[block]):\n",
    "```\n",
    "因为我们的layers选择的是50,结合第80行代码，我们可以得到`depth = [3, 4, 6, 3]` ，所以可以得到这里的循环为 3 + 4 + 6 + 3  次，我们看一下循环体：\n",
    "\n",
    "其中主要的就是145行的 `conv = self.bottleneck_block`，它的定义在258行开始：\n",
    "```\n",
    "def bottleneck_block(self, input, num_filters, stride, name, dilation=1):\n",
    "        if self.stem == 'pspnet' and self.layers == 101:\n",
    "            strides = [1, stride]\n",
    "        else:\n",
    "            strides = [stride, 1]\n",
    "\n",
    "        conv0 = self.conv_bn_layer(\n",
    "            input=input,\n",
    "            num_filters=num_filters,\n",
    "            filter_size=1,\n",
    "            dilation=1,\n",
    "            stride=strides[0],\n",
    "            act='relu',\n",
    "            name=name + \"_branch2a\")\n",
    "        if dilation > 1:\n",
    "            conv0 = self.zero_padding(conv0, dilation)\n",
    "        conv1 = self.conv_bn_layer(\n",
    "            input=conv0,\n",
    "            num_filters=num_filters,\n",
    "            filter_size=3,\n",
    "            dilation=dilation,\n",
    "            stride=strides[1],\n",
    "            act='relu',\n",
    "            name=name + \"_branch2b\")\n",
    "        conv2 = self.conv_bn_layer(\n",
    "            input=conv1,\n",
    "            num_filters=num_filters * 4,\n",
    "            dilation=1,\n",
    "            filter_size=1,\n",
    "            act=None,\n",
    "            name=name + \"_branch2c\")\n",
    "\n",
    "        short = self.shortcut(\n",
    "            input,\n",
    "            num_filters * 4,\n",
    "            stride,\n",
    "            is_first=False,\n",
    "            name=name + \"_branch1\")\n",
    "\n",
    "        return fluid.layers.elementwise_add(\n",
    "            x=short, y=conv2, act='relu', name=name + \".add.output.5\")\n",
    "```\n",
    "可以看到，首先是三个 conv_bn_layer，这个结构上面已经讲过了，接着是一个 shortcut, 其定义从251行开始：\n",
    "\n",
    "```\n",
    "def shortcut(self, input, ch_out, stride, is_first, name):\n",
    "        ch_in = input.shape[1]\n",
    "        if ch_in != ch_out or stride != 1 or is_first == True:\n",
    "            return self.conv_bn_layer(input, ch_out, 1, stride, name=name)\n",
    "        else:\n",
    "            return input\n",
    "```\n",
    "可以看到这个函数要么直接返回 input，要么返回一个 conv_bn_layer 操作，最后是一个 fluid.layers.elementwise_add 将此函数的返回结果与第三个 conv_bn_layer （conv2）相加，注意 conv2 中的 act=None 也即没有进行 relu 操作, shortcut 中也一样没有relu\n",
    "\n",
    "因为这里有两种返回结果的可能，所以你可以想象图中就会出现两种不同结构的 bottleneck_block, 先总结一下：\n",
    "\n",
    "`bottleneck_block = conv_bn_layer with relu * 2 + conv_bn_layer without relu + conv_bn_layer without relu or input + elementwise_add`\n",
    "\n",
    "我们接着刚才的 pool2d 往下看图，\n",
    "\n",
    "![](https://ai-studio-static-online.cdn.bcebos.com/4a43c59c64ce48f9916c332f149516ecea01e9e86fec48b2b9beb31cb2896144)\n",
    "\n",
    "在图中你应该可以看到上面讲过的 conv_bn_layer, 根据上面的分析这就是一种 bottleneck_block，其中 shortcut 的返回是一个 conv_bn_layer without relu，我们称其为 bottleneck_block_0；\n",
    "\n",
    "再往下看图：\n",
    "\n",
    "![](https://ai-studio-static-online.cdn.bcebos.com/7af38dd2d42642db9632cb581c7b526c07ea64143d79488e96687788fd7cdd98)\n",
    "\n",
    "这就是另一种 bottleneck_block,其中 shortcut 直接返回 input, elementwise_add 将 input 直接与 conv2 的结果相加, 我们称其为 bottleneck_block_1；\n",
    "\n",
    "再往下看图，出现了一个重复的结构，这是意料之中的，按照我们的分析确实会有重复的结构出现 3 + 4 + 6 + 3 次，以上我们已经过完了三个 bottleneck_block: `bottleneck_block_0 + bottleneck_block_1 * 2`\n",
    "\n",
    "可以想到再往下会出现类似的四个 bottleneck_block，我们看图，确实出现了 `bottleneck_block_0 + bottleneck_block_1 * 3`,\n",
    "\n",
    "![](https://ai-studio-static-online.cdn.bcebos.com/49011c39ae2b4d98ad8b88eae67c3f34b320689ebbf54721a4d44f67b4a4ffca)\n",
    "\n",
    "\n",
    "这里由于分辨率的原因，我的截图不够清晰，大家可以去自己的页面对照一下，同时可以想到的是之后还会出现 `bottleneck_block_0 + bottleneck_block_1 * 5` 以及 `bottleneck_block_0 + bottleneck_block_1 * 2`；\n",
    "\n",
    "至此，循环的部分就结束了，我们回到 resnet.py 第166行，还剩下 `fluid.layers.pool2d` 以及 `fluid.layers.fc`，但是我们在网络结构中并没有发现这两个操作，这是resnet进行分类的层，在分割中不需要用到；"
   ]
  },
  {
   "cell_type": "markdown",
   "metadata": {
    "collapsed": false
   },
   "source": [
    "## PSP模块\n",
    "\n",
    "backbone的部分终于看完了，接下来就是 psp 模块，在 pspnet.py 中49行开始：\n",
    "```\n",
    "def psp_module(input, out_features):\n",
    "    # Pyramid Scene Parsing 金字塔池化模块\n",
    "    # 输入：backbone输出的特征\n",
    "    # 输出：对输入进行不同尺度pooling, 卷积操作后插值回原始尺寸，并concat\n",
    "    #       最后进行一个卷积及BN操作\n",
    "\n",
    "    cat_layers = []\n",
    "    sizes = (1, 2, 3, 6)\n",
    "    for size in sizes:\n",
    "        psp_name = \"psp\" + str(size)\n",
    "        with scope(psp_name):\n",
    "            pool = fluid.layers.adaptive_pool2d(\n",
    "                input,\n",
    "                pool_size=[size, size],\n",
    "                pool_type='avg',\n",
    "                name=psp_name + '_adapool')\n",
    "            data = conv(\n",
    "                pool,\n",
    "                out_features,\n",
    "                filter_size=1,\n",
    "                bias_attr=True,\n",
    "                name=psp_name + '_conv')\n",
    "            data_bn = bn(data, act='relu')\n",
    "            interp = fluid.layers.resize_bilinear(\n",
    "                data_bn, out_shape=input.shape[2:], name=psp_name + '_interp')\n",
    "        cat_layers.append(interp)\n",
    "    cat_layers = [input] + cat_layers[::-1]\n",
    "    cat = fluid.layers.concat(cat_layers, axis=1, name='psp_cat')\n",
    "\n",
    "    psp_end_name = \"psp_end\"\n",
    "    with scope(psp_end_name):\n",
    "        data = conv(\n",
    "            cat,\n",
    "            out_features,\n",
    "            filter_size=3,\n",
    "            padding=1,\n",
    "            bias_attr=True,\n",
    "            name=psp_end_name)\n",
    "        out = bn(data, act='relu')\n",
    "\n",
    "    return out\n",
    "```\n",
    "我们可以看到其中也有一个循环，`for size in sizes` 其中 `sizes = (1, 2, 3, 6)`，也即循环四次，每次取出1，2，3，6 作为参数；这也就是上面提到的四种 scale 的金字塔结构；\n",
    "\n",
    "循环中的操作为：`fluid.layers.adaptive_pool2d + conv + bn + fluid.layers.resize_bilinear`，也即我们应该在图中能看到 4 个类似的结构，我们在图中接着backbone结束的部分向下看，\n",
    "\n",
    "![](https://ai-studio-static-online.cdn.bcebos.com/2730ef5a94da477aa7d87af9e3c7b19dd0669cd8cd04464a8da5177102d74ac4)\n",
    "\n",
    "很清楚的能看到这样一个结构，再向下看代码，循环结束有一个 concat 操作，上图中也可以看到；\n",
    "\n",
    "最后是一个 conv + bn，我们看图：\n",
    "\n",
    "![](https://ai-studio-static-online.cdn.bcebos.com/379e42b7812e4e4fb118e2fa0cb3ff17dbf685fb199e460cbc97e273d74484e0)\n",
    "\n",
    "这样 PSP 模块的部分就结束了；"
   ]
  },
  {
   "cell_type": "markdown",
   "metadata": {
    "collapsed": false
   },
   "source": [
    "## 剩余模块\n",
    "再往下还有两个部分， dropout +  get_logit_interp，这次我们先看图，然后再去验证代码是不是一样的：\n",
    "\n",
    "![](https://ai-studio-static-online.cdn.bcebos.com/8d42564edd9348d5be6d7c09206c68291e9650164fe54c24ada53ca8dac673c5)\n",
    "\n",
    "接着bn结束的地方往下看图，我们看到一个dropout，dropout 后面应该就是get_logit_interp了，我们看到操作应该为：conv + fluid.layers.resize_bilinear\n",
    "\n",
    "之后的部分 transpose 等应该就是后处理的部分了，我们去代码中验证一下，get_logit_interp的定义在28行：\n",
    "\n",
    "```\n",
    "def get_logit_interp(input, num_classes, out_shape, name=\"logit\"):\n",
    "    # 根据类别数决定最后一层卷积输出, 并插值回原始尺寸\n",
    "    param_attr = fluid.ParamAttr(\n",
    "        name=name + 'weights',\n",
    "        regularizer=fluid.regularizer.L2DecayRegularizer(\n",
    "            regularization_coeff=0.0),\n",
    "        initializer=fluid.initializer.TruncatedNormal(loc=0.0, scale=0.01))\n",
    "\n",
    "    with scope(name):\n",
    "        logit = conv(\n",
    "            input,\n",
    "            num_classes,\n",
    "            filter_size=1,\n",
    "            param_attr=param_attr,\n",
    "            bias_attr=True,\n",
    "            name=name + '_conv')\n",
    "        logit_interp = fluid.layers.resize_bilinear(\n",
    "            logit, out_shape=out_shape, name=name + '_interp')\n",
    "    return logit_interp\n",
    "```\n",
    "后处理的代码在 work/PaddleSeg/pdseg/models/model_builder.py 中 第233行 `logit = softmax(logit)` 其中softmax 的定义在 96行\n",
    "\n",
    "```\n",
    "def softmax(logit):\n",
    "    logit = fluid.layers.transpose(logit, [0, 2, 3, 1])\n",
    "    logit = fluid.layers.softmax(logit)\n",
    "    logit = fluid.layers.transpose(logit, [0, 3, 1, 2])\n",
    "    return logit\n",
    "```\n",
    "与上图一致，transpose + softmax + transpose, 最后的 scale 是导出推理模型的操作；"
   ]
  },
  {
   "cell_type": "markdown",
   "metadata": {
    "collapsed": false
   },
   "source": [
    "## 利用VisualDL-Service共享可视化结果\n",
    "\n",
    "* 此功能是 `VisualDL 2.0.4` 新添加的功能，你需要安装 VisualDL 2.0.4 或者以上的版本，只需要一行代码 `visualdl service upload` 即可以将自己的log文件上传到远端，\n",
    "\n",
    "* **非常推荐**这个功能，我们上传文件之后，就不再需要在本地保存这些文件，直接访问生成的链接就可以了，十分方便！\n",
    "\n",
    "* 如果你没有安装 `VisualDL 2.0.4` ，你需要使用命令`pip install visualdl==2.0.4`安装\n",
    "\n",
    "* 执行下面的代码之后，访问生成的链接， 我也将本项目过程中的某些 log 文件通过此功能上传到了云端， 有需要的话可以进行查看对比；\n",
    "\n",
    "**注意**：当前版本上传时间间隔有 `5min` 的限制，上传的模型大小有`100M`的限制"
   ]
  },
  {
   "cell_type": "code",
   "execution_count": 13,
   "metadata": {
    "collapsed": false
   },
   "outputs": [],
   "source": [
    "!pip install visualdl==2.0.4"
   ]
  },
  {
   "cell_type": "markdown",
   "metadata": {
    "collapsed": false
   },
   "source": [
    "我也将模型的可视化结果通过 VisualDL-Service 分享了出来，大家直接复制下面的链接打开网页就可以查看了；\n",
    "\n",
    "https://paddlepaddle.org.cn/paddle/visualdl/service/app?id=d8f9460527ce377a06fb26f0309237ce"
   ]
  },
  {
   "cell_type": "code",
   "execution_count": 14,
   "metadata": {
    "collapsed": false
   },
   "outputs": [],
   "source": [
    "!visualdl service upload --model freeze_model/__model__"
   ]
  },
  {
   "cell_type": "markdown",
   "metadata": {
    "collapsed": false
   },
   "source": [
    "这样整个 PSPNet 的大致代码我们就看完了，你可以结合模型网络结构图再整体回顾一下，有没有觉得结合 `VisualDL-Graph` 可视化，代码看起来非常**好懂**呢？\n",
    "\n",
    "每一部分的代码实现的是网络的哪一部分是不是也**一目了然**呢？同时通过 `VisualDL-Service` 生成一个链接就实现了可视化结果共享，是不是很**方便**呢？\n",
    "\n",
    "如果你有其他感兴趣的网络或者搞不懂的网络，结合 `VisualDL-Graph` 看一看网络长什么样吧，我相信你一定会很快理解的！\n",
    "\n",
    "其实 `VisualDL` 的**强大**之处远不止于此，其他功能的使用可以参考的我的其他文章哦，赶快用起来 VisualDL 吧！"
   ]
  },
  {
   "cell_type": "markdown",
   "metadata": {
    "collapsed": false
   },
   "source": [
    "## 结束语\n",
    "\n",
    "怎么样？VisualDL是不是很不错呢？快去[Github](https://github.com/PaddlePaddle/VisualDL)上**点点Star**吧！\n",
    "\n",
    "什么？你觉得不太行？点完Star, 去[issue](https://github.com/PaddlePaddle/VisualDL/issues)里吐槽一下吧，会彳亍起来的！\n",
    "\n",
    "想深入了解一下其他功能？ 来我的 [地块分割 PaddleSeg 篇](https://aistudio.baidu.com/aistudio/projectdetail/1240371)看看吧！\n",
    "\n",
    "觉得写得不错的话，互相点个[关注](https://aistudio.baidu.com/aistudio/personalcenter/thirdview/380628)吧，如果你觉得写的有问题，也欢迎在评论区指正！\n",
    "\n",
    "参考链接：\n",
    "\n",
    "图像分割七日打卡营：https://aistudio.baidu.com/aistudio/course/introduce/1767\n",
    "\n",
    "PSPNet 论文：https://arxiv.org/abs/1612.01105\n"
   ]
  }
 ],
 "metadata": {
  "kernelspec": {
   "display_name": "PaddlePaddle 1.8.4 (Python 3.5)",
   "language": "python",
   "name": "py35-paddle1.2.0"
  },
  "language_info": {
   "codemirror_mode": {
    "name": "ipython",
    "version": 3
   },
   "file_extension": ".py",
   "mimetype": "text/x-python",
   "name": "python",
   "nbconvert_exporter": "python",
   "pygments_lexer": "ipython3",
   "version": "3.7.4"
  }
 },
 "nbformat": 4,
 "nbformat_minor": 1
}
